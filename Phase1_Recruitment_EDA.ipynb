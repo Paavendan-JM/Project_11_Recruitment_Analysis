{
 "cells": [
  {
   "cell_type": "code",
   "execution_count": 19,
   "id": "00a4837d",
   "metadata": {},
   "outputs": [],
   "source": [
    "import pandas as pd\n",
    "import numpy as np\n",
    "import matplotlib.pyplot as plt\n",
    "import seaborn as sns\n",
    "import os\n",
    "\n",
    "# Set file paths\n",
    "input_path = r'F:\\Profile_Me\\Profile_2_Data_Analyst\\Projects\\Project_8_\\Dataset\\Recruitment_Data.csv'\n",
    "output_path = r'F:\\Profile_Me\\Profile_2_Data_Analyst\\Projects\\Project_8_\\After_EDA\\Cleaned_Recruitment_Data_New.xlsx'\n",
    "\n",
    "# Load dataset\n",
    "df = pd.read_csv(input_path, parse_dates=['ApplicationDate', 'JoiningDate'])"
   ]
  },
  {
   "cell_type": "markdown",
   "id": "c1b32f23",
   "metadata": {},
   "source": [
    "### Basic EDA - Cleaning, Feature Engineering"
   ]
  },
  {
   "cell_type": "code",
   "execution_count": 20,
   "id": "eb37e1c4",
   "metadata": {},
   "outputs": [
    {
     "name": "stdout",
     "output_type": "stream",
     "text": [
      "Cleaned data saved to: F:\\Profile_Me\\Profile_2_Data_Analyst\\Projects\\Project_8_\\After_EDA\\Cleaned_Recruitment_Data_New.xlsx\n"
     ]
    }
   ],
   "source": [
    "# Initial clean-up\n",
    "df['TimeToHire'] = df['TimeToHire'].fillna(0).astype(int)\n",
    "df['OfferedCTC'] = df['OfferedCTC'].fillna(0).astype(int)\n",
    "df['Remarks'] = df['Remarks'].fillna(\"No remarks\")\n",
    "df['JoiningDate'] = pd.to_datetime(df['JoiningDate'], errors='coerce')\n",
    "\n",
    "# Feature Engineering\n",
    "df['HiringSpeed'] = pd.cut(df['TimeToHire'], \n",
    "                           bins=[-1, 15, 30, 60], \n",
    "                           labels=['Fast', 'Average', 'Slow'])\n",
    "\n",
    "df['Month'] = df['ApplicationDate'].dt.to_period('M').astype(str)\n",
    "df['Joined'] = df['Stage'] == 'Joined'\n",
    "\n",
    "# Save cleaned file\n",
    "df.to_excel(output_path, index=False)\n",
    "print(f\"Cleaned data saved to: {output_path}\")"
   ]
  },
  {
   "cell_type": "markdown",
   "id": "a625f3fe",
   "metadata": {},
   "source": [
    "# Summary of Dataset"
   ]
  },
  {
   "cell_type": "code",
   "execution_count": 40,
   "id": "7020b583",
   "metadata": {},
   "outputs": [
    {
     "name": "stdout",
     "output_type": "stream",
     "text": [
      "-----------DB Summary----------- \n",
      "\n",
      "- Total Records: 10000\n",
      "- Offer Acceptance Rate: 79.2%\n",
      "- Hiring Probability: 1.98%\n",
      "- Diversity Representation: 44.57%\n",
      "\n",
      "\n",
      "-----------Stage Funnel Counts----------- \n",
      "\n",
      "Total Applicants        10000\n",
      "Rejected at screening    5000\n",
      "Screened                 3750\n",
      "Interviewed              1000\n",
      "Offered                   250\n",
      "Joined                    198\n",
      "Name: Stage, dtype: int32\n"
     ]
    },
    {
     "data": {
      "image/png": "[encoded data removed]",
      "text/plain": [
       "<Figure size 576x288 with 1 Axes>"
      ]
     },
     "metadata": {
      "needs_background": "light"
     },
     "output_type": "display_data"
    }
   ],
   "source": [
    "# Funnel conversion\n",
    "stage_order = ['Rejected at screening', 'Screened', 'Interviewed', 'Offered', 'Joined']\n",
    "funnel = df['Stage'].value_counts().reindex(stage_order).fillna(0).astype(int)\n",
    "\n",
    "# Hired count\n",
    "hired_count = df[df['HireStatus'] == 'Hired'].shape[0]\n",
    "\n",
    "# Offer acceptance rate\n",
    "total_offered = df[df['Stage'].isin(['Offered', 'Joined'])].shape[0]\n",
    "offer_acceptance_rate = round(hired_count / total_offered * 100, 2) if total_offered else 0\n",
    "\n",
    "# Hiring probability\n",
    "hiring_probability = round(hired_count / len(df) * 100, 2)\n",
    "\n",
    "# Diversity %\n",
    "diversity_pct = round(df[df['DiversityFlag'] == 'Yes'].shape[0] / len(df) * 100, 2)\n",
    "\n",
    "# ✨ Print Required Summary\n",
    "print(\"-----------DB Summary----------- \\n\")\n",
    "print(\"- Total Records:\", len(df))\n",
    "print(f\"- Offer Acceptance Rate: {offer_acceptance_rate}%\")\n",
    "print(f\"- Hiring Probability: {hiring_probability}%\")\n",
    "print(f\"- Diversity Representation: {diversity_pct}%\")\n",
    "print(\"\\n\")\n",
    "\n",
    "\n",
    "# Funnel chart\n",
    "# Create a modified funnel for plotting only\n",
    "plot_funnel = funnel.copy()\n",
    "plot_funnel['Offered'] += plot_funnel['Joined']\n",
    "print(\"-----------Stage Funnel Counts----------- \\n\")\n",
    "print(\"Total Applicants       \",len(df))\n",
    "print(plot_funnel)\n",
    "\n",
    "# Plot\n",
    "plt.figure(figsize=(8, 4))\n",
    "sns.barplot(x=plot_funnel.index, y=plot_funnel.values, palette='Blues_d')\n",
    "plt.title('Recruitment Funnel Breakdown (Joined Included in Offered)')\n",
    "plt.xlabel('Stage')\n",
    "plt.ylabel('Candidate Count')\n",
    "plt.tight_layout()\n",
    "plt.show()\n",
    "\n"
   ]
  },
  {
   "cell_type": "markdown",
   "id": "e27a488f",
   "metadata": {},
   "source": [
    "# THE END"
   ]
  }
 ],
 "metadata": {
  "kernelspec": {
   "display_name": "Python 3 (ipykernel)",
   "language": "python",
   "name": "python3"
  },
  "language_info": {
   "codemirror_mode": {
    "name": "ipython",
    "version": 3
   },
   "file_extension": ".py",
   "mimetype": "text/x-python",
   "name": "python",
   "nbconvert_exporter": "python",
   "pygments_lexer": "ipython3",
   "version": "3.9.12"
  }
 },
 "nbformat": 4,
 "nbformat_minor": 5
}
